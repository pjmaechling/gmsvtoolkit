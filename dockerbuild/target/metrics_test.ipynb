{
 "cells": [
  {
   "cell_type": "code",
   "execution_count": 1,
   "id": "b2757d24",
   "metadata": {},
   "outputs": [
    {
     "name": "stdout",
     "output_type": "stream",
     "text": [
      "Running:  /opt/src/gmsvtoolkit/gmsvtoolkit/metrics/rotdxx.py --station-list /opt/src/gmsvtoolkit/gmsvtoolkit/tests/ref_data/metrics/nr_v19_06_2_3_stations.stl --output-dir /home/gtkuser/target/sample_output --input-dir /opt/src/gmsvtoolkit/gmsvtoolkit/tests/ref_data/metrics\n",
      "Running module: rotdxx.py\n",
      "[ROTDXX]: Processing 10000000.2001-SCE.acc.bbp\n",
      "[ROTDXX]: Processing 10000000.2002-SYL.acc.bbp\n",
      "[ROTDXX]: Processing 10000000.2003-JEN.acc.bbp\n"
     ]
    },
    {
     "data": {
      "text/plain": [
       "0"
      ]
     },
     "execution_count": 1,
     "metadata": {},
     "output_type": "execute_result"
    }
   ],
   "source": [
    "import os\n",
    "\n",
    "gtk_install_dir = \"/opt/src/gmsvtoolkit/gmsvtoolkit\"\n",
    "test_dir=\"/opt/src/gmsvtoolkit/gmsvtoolkit/tests/ref_data\"\n",
    "out_dir = \"/home/gtkuser/target\"\n",
    "\n",
    "cmd = \"%s/metrics/rotdxx.py --station-list %s/metrics/nr_v19_06_2_3_stations.stl --output-dir %s/sample_output --input-dir %s/metrics\"%(gtk_install_dir,test_dir,out_dir,test_dir)\n",
    "print(\"Running: \", cmd)\n",
    "os.system(cmd)"
   ]
  },
  {
   "cell_type": "code",
   "execution_count": 2,
   "id": "c82673ae",
   "metadata": {},
   "outputs": [
    {
     "name": "stdout",
     "output_type": "stream",
     "text": [
      "Running:  /opt/src/gmsvtoolkit/gmsvtoolkit/plots/plot_rotdxx.py --station-list /opt/src/gmsvtoolkit/gmsvtoolkit/tests/ref_data/metrics/nr_v19_06_2_3_stations.stl --output-dir /home/gtkuser/target/sample_output --labels \"NR\",\"100000\" --comp-label \"NR_100000\" /opt/src/gmsvtoolkit/gmsvtoolkit/tests/ref_data/obs /home/gtkuser/target/sample_output\n",
      "Running module: plot_rotdxx.py\n",
      "[PLOTRDXX]: Generating RotDXX comparison plot for station 2001-SCE\n",
      "[PLOTRDXX]: Generating RotDXX comparison plot for station 2002-SYL\n",
      "[PLOTRDXX]: Generating RotDXX comparison plot for station 2003-JEN\n"
     ]
    },
    {
     "data": {
      "text/plain": [
       "0"
      ]
     },
     "execution_count": 2,
     "metadata": {},
     "output_type": "execute_result"
    }
   ],
   "source": [
    "cmd = \"%s/plots/plot_rotdxx.py --station-list %s/metrics/nr_v19_06_2_3_stations.stl --output-dir %s/sample_output --labels \\\"NR\\\",\\\"100000\\\" --comp-label \\\"NR_100000\\\" %s/obs %s/sample_output\"%(gtk_install_dir,test_dir,out_dir,test_dir,out_dir)\n",
    "print(\"Running: \", cmd)\n",
    "os.system(cmd)"
   ]
  },
  {
   "cell_type": "code",
   "execution_count": null,
   "id": "cb33792a",
   "metadata": {},
   "outputs": [],
   "source": []
  }
 ],
 "metadata": {
  "kernelspec": {
   "display_name": "Python 3 (ipykernel)",
   "language": "python",
   "name": "python3"
  },
  "language_info": {
   "codemirror_mode": {
    "name": "ipython",
    "version": 3
   },
   "file_extension": ".py",
   "mimetype": "text/x-python",
   "name": "python",
   "nbconvert_exporter": "python",
   "pygments_lexer": "ipython3",
   "version": "3.10.6"
  }
 },
 "nbformat": 4,
 "nbformat_minor": 5
}
