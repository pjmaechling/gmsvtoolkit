{
 "cells": [
  {
   "cell_type": "markdown",
   "id": "f6af56ff",
   "metadata": {},
   "source": [
    "This is an introduction to the SCEC GMSV Toolkit."
   ]
  },
  {
   "cell_type": "code",
   "execution_count": 1,
   "id": "b2757d24",
   "metadata": {},
   "outputs": [],
   "source": [
    "import os"
   ]
  },
  {
   "cell_type": "markdown",
   "id": "e06fd3d3",
   "metadata": {},
   "source": [
    "Define the container paths to the GMSV software and to the output directory shared with your laptop."
   ]
  },
  {
   "cell_type": "code",
   "execution_count": 2,
   "id": "3d0a9836",
   "metadata": {},
   "outputs": [],
   "source": [
    "gtk_install_dir = \"/opt/src/gmsvtoolkit/gmsvtoolkit\"\n",
    "test_dir=\"/opt/src/gmsvtoolkit/gmsvtoolkit/tests/ref_data\"\n",
    "out_dir = \"/home/gtkuser/target\""
   ]
  },
  {
   "cell_type": "markdown",
   "id": "37000c25",
   "metadata": {},
   "source": [
    "Start by running the rotdxx.py script. This calculates a ROTD50 values from seismograms. Start by running the --help version to identify the input parameters."
   ]
  },
  {
   "cell_type": "code",
   "execution_count": 4,
   "id": "f6ec0be6",
   "metadata": {},
   "outputs": [
    {
     "name": "stdout",
     "output_type": "stream",
     "text": [
      "Running:  /opt/src/gmsvtoolkit/gmsvtoolkit/metrics/rotdxx.py --help\n",
      "Running module: rotdxx.py\n",
      "usage: rotdxx.py [-h] [--input-dir INPUT_DIR] [--output-dir OUTPUT_DIR]\n",
      "                 [-i INPUT_FILE] [-o OUTPUT_FILE] [--batch-file BATCH_FILE]\n",
      "                 [--station-list STATION_LIST] [--vertical] [--rotd100]\n",
      "                 [--rotd50]\n",
      "\n",
      "Compute RotDXX for one or more seismograms.\n",
      "\n",
      "options:\n",
      "  -h, --help            show this help message and exit\n",
      "  --input-dir INPUT_DIR\n",
      "                        input directory\n",
      "  --output-dir OUTPUT_DIR\n",
      "                        output directory\n",
      "  -i INPUT_FILE, --input INPUT_FILE, --input-file INPUT_FILE\n",
      "                        input acceleration BBP file\n",
      "  -o OUTPUT_FILE, --output OUTPUT_FILE, --output-file OUTPUT_FILE\n",
      "                        output rd100 file\n",
      "  --batch-file BATCH_FILE, -b BATCH_FILE\n",
      "                        file with list of timeseries to process\n",
      "  --station-list STATION_LIST, -s STATION_LIST\n",
      "                        station list for batch processing\n",
      "  --vertical, -v        process vertical component instead of horizontals\n",
      "  --rotd100             enable RotD100 output\n",
      "  --rotd50              enable RotD50 output (default)\n"
     ]
    },
    {
     "data": {
      "text/plain": [
       "0"
      ]
     },
     "execution_count": 4,
     "metadata": {},
     "output_type": "execute_result"
    }
   ],
   "source": [
    "cmd = \"%s/metrics/rotdxx.py --help\"%(gtk_install_dir)\n",
    "print(\"Running: \", cmd)\n",
    "os.system(cmd)"
   ]
  },
  {
   "cell_type": "markdown",
   "id": "ac36036a",
   "metadata": {},
   "source": [
    "Construct a version of the command giving input parameters that include:\n",
    "  -station-list\n",
    "  -output-dir\n",
    "  -input-dir"
   ]
  },
  {
   "cell_type": "code",
   "execution_count": null,
   "id": "dc351ff2",
   "metadata": {},
   "outputs": [],
   "source": [
    "cmd = \"%s/metrics/rotdxx.py --station-list %s/metrics/nr_v19_06_2_3_stations.stl --output-dir %s/sample_output --input-dir %s/metrics\"%(gtk_install_dir,test_dir,out_dir,test_dir)\n",
    "print(\"Running: \", cmd)\n",
    "os.system(cmd)"
   ]
  },
  {
   "cell_type": "markdown",
   "id": "afa39040",
   "metadata": {},
   "source": [
    "Next run a plotting script that plots the ROTD50 results."
   ]
  },
  {
   "cell_type": "code",
   "execution_count": null,
   "id": "c82673ae",
   "metadata": {},
   "outputs": [],
   "source": [
    "cmd = \"%s/plots/plot_rotdxx.py --station-list %s/metrics/nr_v19_06_2_3_stations.stl --output-dir %s/sample_output --labels \\\"NR\\\",\\\"100000\\\" --comp-label \\\"NR_100000\\\" %s/obs %s/sample_output\"%(gtk_install_dir,test_dir,out_dir,test_dir,out_dir)\n",
    "print(\"Running: \", cmd)\n",
    "os.system(cmd)"
   ]
  },
  {
   "cell_type": "code",
   "execution_count": null,
   "id": "cb33792a",
   "metadata": {},
   "outputs": [],
   "source": []
  }
 ],
 "metadata": {
  "kernelspec": {
   "display_name": "Python 3 (ipykernel)",
   "language": "python",
   "name": "python3"
  },
  "language_info": {
   "codemirror_mode": {
    "name": "ipython",
    "version": 3
   },
   "file_extension": ".py",
   "mimetype": "text/x-python",
   "name": "python",
   "nbconvert_exporter": "python",
   "pygments_lexer": "ipython3",
   "version": "3.10.6"
  }
 },
 "nbformat": 4,
 "nbformat_minor": 5
}
