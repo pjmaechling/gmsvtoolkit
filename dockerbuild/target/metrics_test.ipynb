{
 "cells": [
  {
   "cell_type": "markdown",
   "id": "f6af56ff",
   "metadata": {},
   "source": [
    "This is an introduction to the SCEC GMSV Toolkit."
   ]
  },
  {
   "cell_type": "code",
   "execution_count": null,
   "id": "b2757d24",
   "metadata": {},
   "outputs": [],
   "source": [
    "import os"
   ]
  },
  {
   "cell_type": "markdown",
   "id": "e06fd3d3",
   "metadata": {},
   "source": [
    "Define the container paths to the GMSV software and to the output directory shared with your laptop."
   ]
  },
  {
   "cell_type": "code",
   "execution_count": null,
   "id": "3d0a9836",
   "metadata": {},
   "outputs": [],
   "source": [
    "gtk_install_dir = \"/opt/src/gmsvtoolkit/gmsvtoolkit\"\n",
    "test_dir=\"/opt/src/gmsvtoolkit/gmsvtoolkit/tests/ref_data\"\n",
    "out_dir = \"/home/gtkuser/target\""
   ]
  },
  {
   "cell_type": "markdown",
   "id": "37000c25",
   "metadata": {},
   "source": [
    "Start by running the rotdxx.py script. This calculates a ROTD50 values from seismograms. Start by running the --help version to identify the input parameters."
   ]
  },
  {
   "cell_type": "code",
   "execution_count": null,
   "id": "f6ec0be6",
   "metadata": {},
   "outputs": [],
   "source": [
    "cmd = \"%s/metrics/rotdxx.py --help\"%(gtk_install_dir)\n",
    "print(\"Running: \", cmd)\n",
    "os.system(cmd)"
   ]
  },
  {
   "cell_type": "markdown",
   "id": "ac36036a",
   "metadata": {},
   "source": [
    "Construct a version of the command giving input parameters that include:\n",
    "  -station-list\n",
    "  -output-dir\n",
    "  -input-dir"
   ]
  },
  {
   "cell_type": "code",
   "execution_count": null,
   "id": "dc351ff2",
   "metadata": {},
   "outputs": [],
   "source": [
    "cmd = \"%s/metrics/rotdxx.py --station-list %s/metrics/nr_v19_06_2_3_stations.stl --output-dir %s/sample_output --input-dir %s/metrics\"%(gtk_install_dir,test_dir,out_dir,test_dir)\n",
    "print(\"Running: \", cmd)\n",
    "os.system(cmd)"
   ]
  },
  {
   "cell_type": "markdown",
   "id": "afa39040",
   "metadata": {},
   "source": [
    "Next run a plotting script that plots the ROTD50 results."
   ]
  },
  {
   "cell_type": "code",
   "execution_count": null,
   "id": "9f712772",
   "metadata": {},
   "outputs": [],
   "source": [
    "cmd = \"%s/plots/plot_rotdxx.py --help\"%(gtk_install_dir)\n",
    "print(\"Running: \", cmd)\n",
    "os.system(cmd)"
   ]
  },
  {
   "cell_type": "markdown",
   "id": "d1304842",
   "metadata": {},
   "source": [
    "Now construct a plot_rotdxx script with input parameters for the plots of interest:"
   ]
  },
  {
   "cell_type": "code",
   "execution_count": null,
   "id": "c82673ae",
   "metadata": {},
   "outputs": [],
   "source": [
    "cmd = \"%s/plots/plot_rotdxx.py --station-list %s/metrics/nr_v19_06_2_3_stations.stl --output-dir %s/sample_output --labels \\\"NR\\\",\\\"100000\\\" --comp-label \\\"NR_100000\\\" %s/obs %s/sample_output\"%(gtk_install_dir,test_dir,out_dir,test_dir,out_dir)\n",
    "print(\"Running: \", cmd)\n",
    "os.system(cmd)"
   ]
  },
  {
   "cell_type": "markdown",
   "id": "d676fa89",
   "metadata": {},
   "source": [
    "Now plot the output file:"
   ]
  },
  {
   "cell_type": "code",
   "execution_count": null,
   "id": "cb33792a",
   "metadata": {},
   "outputs": [],
   "source": [
    "from IPython.display import Image, display\n",
    "display(Image(\"./sample_output/NR_100000_2001-SCE_rotd50.png\"))"
   ]
  }
 ],
 "metadata": {
  "kernelspec": {
   "display_name": "Python 3 (ipykernel)",
   "language": "python",
   "name": "python3"
  },
  "language_info": {
   "codemirror_mode": {
    "name": "ipython",
    "version": 3
   },
   "file_extension": ".py",
   "mimetype": "text/x-python",
   "name": "python",
   "nbconvert_exporter": "python",
   "pygments_lexer": "ipython3",
   "version": "3.10.6"
  }
 },
 "nbformat": 4,
 "nbformat_minor": 5
}
